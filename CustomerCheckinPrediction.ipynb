{
  "nbformat": 4,
  "nbformat_minor": 0,
  "metadata": {
    "colab": {
      "name": "CustomerCheckinPrediction.ipynb",
      "provenance": [],
      "collapsed_sections": []
    },
    "kernelspec": {
      "name": "python3",
      "display_name": "Python 3"
    },
    "language_info": {
      "name": "python"
    }
  },
  "cells": [
    {
      "cell_type": "markdown",
      "source": [
        "# Hotel Checkin Prediction\n",
        "In this note book we are going to be creating a machine learning model to *predict whether a customer is going to checkin or not*. I am going to be using the data that was given to me by the **NextLabs team**.\n",
        "- We are going to be creating a Neural Network.\n",
        "- To work with our model, the data should be encoded, scaled(if necessary)\n",
        "- Make predictions and measure the accuracy and precision using confusion matrix and classification report"
      ],
      "metadata": {
        "id": "PBMq7l0l2pZ2"
      }
    },
    {
      "cell_type": "markdown",
      "source": [
        "## Importing\n"
      ],
      "metadata": {
        "id": "XMxplS-72j-L"
      }
    },
    {
      "cell_type": "code",
      "source": [
        "import pandas as pd\n",
        "import numpy as np\n",
        "import matplotlib.pyplot as plt\n",
        "import  seaborn as sns\n",
        "from sklearn.preprocessing import MinMaxScaler, LabelEncoder\n",
        "from sklearn.model_selection import train_test_split\n",
        "import tensorflow as tf\n",
        "from tensorflow import keras\n",
        "from sklearn.metrics import confusion_matrix , classification_report\n",
        "import pickle"
      ],
      "metadata": {
        "id": "e8X70Xi_1fZS"
      },
      "execution_count": 1,
      "outputs": []
    },
    {
      "cell_type": "markdown",
      "source": [
        "## Loading the Data\n",
        "\n",
        "##### I think there has been a little mistake in the documentation provided by the team. They misplaced the links for the training and test data(They've given  the link for test data as the train data and vice versa). I have seen it and done the corrections in importing them."
      ],
      "metadata": {
        "id": "v-hyLOV53Y9j"
      }
    },
    {
      "cell_type": "code",
      "source": [
        "train = pd.read_csv(\"/content/drive/MyDrive/train_data_evaluation_part_2.csv\", index_col=False)\n",
        "train.head()"
      ],
      "metadata": {
        "id": "KzWDnChr1m5N",
        "colab": {
          "base_uri": "https://localhost:8080/",
          "height": 317
        },
        "outputId": "42221432-e059-417f-df4b-df02128d58c3"
      },
      "execution_count": 2,
      "outputs": [
        {
          "output_type": "execute_result",
          "data": {
            "text/plain": [
              "   Unnamed: 0  ID Nationality   Age  DaysSinceCreation  AverageLeadTime  \\\n",
              "0           0   1         PRT  51.0                150               45   \n",
              "1           1   2         PRT   NaN               1095               61   \n",
              "2           2   3         DEU  31.0               1095                0   \n",
              "3           3   4         FRA  60.0               1095               93   \n",
              "4           4   5         FRA  51.0               1095                0   \n",
              "\n",
              "   LodgingRevenue  OtherRevenue  BookingsCanceled  BookingsNoShowed  ...  \\\n",
              "0           371.0         105.3                 1                 0  ...   \n",
              "1           280.0          53.0                 0                 0  ...   \n",
              "2             0.0           0.0                 0                 0  ...   \n",
              "3           240.0          60.0                 0                 0  ...   \n",
              "4             0.0           0.0                 0                 0  ...   \n",
              "\n",
              "   SRMediumFloor  SRBathtub  SRShower  SRCrib  SRKingSizeBed SRTwinBed  \\\n",
              "0              0          0         0       0              0         0   \n",
              "1              0          0         0       0              0         0   \n",
              "2              0          0         0       0              0         0   \n",
              "3              0          0         0       0              0         0   \n",
              "4              0          0         0       0              0         0   \n",
              "\n",
              "  SRNearElevator  SRAwayFromElevator  SRNoAlcoholInMiniBar  SRQuietRoom  \n",
              "0              0                   0                     0            0  \n",
              "1              0                   0                     0            0  \n",
              "2              0                   0                     0            0  \n",
              "3              0                   0                     0            0  \n",
              "4              0                   0                     0            0  \n",
              "\n",
              "[5 rows x 30 columns]"
            ],
            "text/html": [
              "\n",
              "  <div id=\"df-ef154d1a-d7c3-4e61-ad93-7ada2cd1b84a\">\n",
              "    <div class=\"colab-df-container\">\n",
              "      <div>\n",
              "<style scoped>\n",
              "    .dataframe tbody tr th:only-of-type {\n",
              "        vertical-align: middle;\n",
              "    }\n",
              "\n",
              "    .dataframe tbody tr th {\n",
              "        vertical-align: top;\n",
              "    }\n",
              "\n",
              "    .dataframe thead th {\n",
              "        text-align: right;\n",
              "    }\n",
              "</style>\n",
              "<table border=\"1\" class=\"dataframe\">\n",
              "  <thead>\n",
              "    <tr style=\"text-align: right;\">\n",
              "      <th></th>\n",
              "      <th>Unnamed: 0</th>\n",
              "      <th>ID</th>\n",
              "      <th>Nationality</th>\n",
              "      <th>Age</th>\n",
              "      <th>DaysSinceCreation</th>\n",
              "      <th>AverageLeadTime</th>\n",
              "      <th>LodgingRevenue</th>\n",
              "      <th>OtherRevenue</th>\n",
              "      <th>BookingsCanceled</th>\n",
              "      <th>BookingsNoShowed</th>\n",
              "      <th>...</th>\n",
              "      <th>SRMediumFloor</th>\n",
              "      <th>SRBathtub</th>\n",
              "      <th>SRShower</th>\n",
              "      <th>SRCrib</th>\n",
              "      <th>SRKingSizeBed</th>\n",
              "      <th>SRTwinBed</th>\n",
              "      <th>SRNearElevator</th>\n",
              "      <th>SRAwayFromElevator</th>\n",
              "      <th>SRNoAlcoholInMiniBar</th>\n",
              "      <th>SRQuietRoom</th>\n",
              "    </tr>\n",
              "  </thead>\n",
              "  <tbody>\n",
              "    <tr>\n",
              "      <th>0</th>\n",
              "      <td>0</td>\n",
              "      <td>1</td>\n",
              "      <td>PRT</td>\n",
              "      <td>51.0</td>\n",
              "      <td>150</td>\n",
              "      <td>45</td>\n",
              "      <td>371.0</td>\n",
              "      <td>105.3</td>\n",
              "      <td>1</td>\n",
              "      <td>0</td>\n",
              "      <td>...</td>\n",
              "      <td>0</td>\n",
              "      <td>0</td>\n",
              "      <td>0</td>\n",
              "      <td>0</td>\n",
              "      <td>0</td>\n",
              "      <td>0</td>\n",
              "      <td>0</td>\n",
              "      <td>0</td>\n",
              "      <td>0</td>\n",
              "      <td>0</td>\n",
              "    </tr>\n",
              "    <tr>\n",
              "      <th>1</th>\n",
              "      <td>1</td>\n",
              "      <td>2</td>\n",
              "      <td>PRT</td>\n",
              "      <td>NaN</td>\n",
              "      <td>1095</td>\n",
              "      <td>61</td>\n",
              "      <td>280.0</td>\n",
              "      <td>53.0</td>\n",
              "      <td>0</td>\n",
              "      <td>0</td>\n",
              "      <td>...</td>\n",
              "      <td>0</td>\n",
              "      <td>0</td>\n",
              "      <td>0</td>\n",
              "      <td>0</td>\n",
              "      <td>0</td>\n",
              "      <td>0</td>\n",
              "      <td>0</td>\n",
              "      <td>0</td>\n",
              "      <td>0</td>\n",
              "      <td>0</td>\n",
              "    </tr>\n",
              "    <tr>\n",
              "      <th>2</th>\n",
              "      <td>2</td>\n",
              "      <td>3</td>\n",
              "      <td>DEU</td>\n",
              "      <td>31.0</td>\n",
              "      <td>1095</td>\n",
              "      <td>0</td>\n",
              "      <td>0.0</td>\n",
              "      <td>0.0</td>\n",
              "      <td>0</td>\n",
              "      <td>0</td>\n",
              "      <td>...</td>\n",
              "      <td>0</td>\n",
              "      <td>0</td>\n",
              "      <td>0</td>\n",
              "      <td>0</td>\n",
              "      <td>0</td>\n",
              "      <td>0</td>\n",
              "      <td>0</td>\n",
              "      <td>0</td>\n",
              "      <td>0</td>\n",
              "      <td>0</td>\n",
              "    </tr>\n",
              "    <tr>\n",
              "      <th>3</th>\n",
              "      <td>3</td>\n",
              "      <td>4</td>\n",
              "      <td>FRA</td>\n",
              "      <td>60.0</td>\n",
              "      <td>1095</td>\n",
              "      <td>93</td>\n",
              "      <td>240.0</td>\n",
              "      <td>60.0</td>\n",
              "      <td>0</td>\n",
              "      <td>0</td>\n",
              "      <td>...</td>\n",
              "      <td>0</td>\n",
              "      <td>0</td>\n",
              "      <td>0</td>\n",
              "      <td>0</td>\n",
              "      <td>0</td>\n",
              "      <td>0</td>\n",
              "      <td>0</td>\n",
              "      <td>0</td>\n",
              "      <td>0</td>\n",
              "      <td>0</td>\n",
              "    </tr>\n",
              "    <tr>\n",
              "      <th>4</th>\n",
              "      <td>4</td>\n",
              "      <td>5</td>\n",
              "      <td>FRA</td>\n",
              "      <td>51.0</td>\n",
              "      <td>1095</td>\n",
              "      <td>0</td>\n",
              "      <td>0.0</td>\n",
              "      <td>0.0</td>\n",
              "      <td>0</td>\n",
              "      <td>0</td>\n",
              "      <td>...</td>\n",
              "      <td>0</td>\n",
              "      <td>0</td>\n",
              "      <td>0</td>\n",
              "      <td>0</td>\n",
              "      <td>0</td>\n",
              "      <td>0</td>\n",
              "      <td>0</td>\n",
              "      <td>0</td>\n",
              "      <td>0</td>\n",
              "      <td>0</td>\n",
              "    </tr>\n",
              "  </tbody>\n",
              "</table>\n",
              "<p>5 rows × 30 columns</p>\n",
              "</div>\n",
              "      <button class=\"colab-df-convert\" onclick=\"convertToInteractive('df-ef154d1a-d7c3-4e61-ad93-7ada2cd1b84a')\"\n",
              "              title=\"Convert this dataframe to an interactive table.\"\n",
              "              style=\"display:none;\">\n",
              "        \n",
              "  <svg xmlns=\"http://www.w3.org/2000/svg\" height=\"24px\"viewBox=\"0 0 24 24\"\n",
              "       width=\"24px\">\n",
              "    <path d=\"M0 0h24v24H0V0z\" fill=\"none\"/>\n",
              "    <path d=\"M18.56 5.44l.94 2.06.94-2.06 2.06-.94-2.06-.94-.94-2.06-.94 2.06-2.06.94zm-11 1L8.5 8.5l.94-2.06 2.06-.94-2.06-.94L8.5 2.5l-.94 2.06-2.06.94zm10 10l.94 2.06.94-2.06 2.06-.94-2.06-.94-.94-2.06-.94 2.06-2.06.94z\"/><path d=\"M17.41 7.96l-1.37-1.37c-.4-.4-.92-.59-1.43-.59-.52 0-1.04.2-1.43.59L10.3 9.45l-7.72 7.72c-.78.78-.78 2.05 0 2.83L4 21.41c.39.39.9.59 1.41.59.51 0 1.02-.2 1.41-.59l7.78-7.78 2.81-2.81c.8-.78.8-2.07 0-2.86zM5.41 20L4 18.59l7.72-7.72 1.47 1.35L5.41 20z\"/>\n",
              "  </svg>\n",
              "      </button>\n",
              "      \n",
              "  <style>\n",
              "    .colab-df-container {\n",
              "      display:flex;\n",
              "      flex-wrap:wrap;\n",
              "      gap: 12px;\n",
              "    }\n",
              "\n",
              "    .colab-df-convert {\n",
              "      background-color: #E8F0FE;\n",
              "      border: none;\n",
              "      border-radius: 50%;\n",
              "      cursor: pointer;\n",
              "      display: none;\n",
              "      fill: #1967D2;\n",
              "      height: 32px;\n",
              "      padding: 0 0 0 0;\n",
              "      width: 32px;\n",
              "    }\n",
              "\n",
              "    .colab-df-convert:hover {\n",
              "      background-color: #E2EBFA;\n",
              "      box-shadow: 0px 1px 2px rgba(60, 64, 67, 0.3), 0px 1px 3px 1px rgba(60, 64, 67, 0.15);\n",
              "      fill: #174EA6;\n",
              "    }\n",
              "\n",
              "    [theme=dark] .colab-df-convert {\n",
              "      background-color: #3B4455;\n",
              "      fill: #D2E3FC;\n",
              "    }\n",
              "\n",
              "    [theme=dark] .colab-df-convert:hover {\n",
              "      background-color: #434B5C;\n",
              "      box-shadow: 0px 1px 3px 1px rgba(0, 0, 0, 0.15);\n",
              "      filter: drop-shadow(0px 1px 2px rgba(0, 0, 0, 0.3));\n",
              "      fill: #FFFFFF;\n",
              "    }\n",
              "  </style>\n",
              "\n",
              "      <script>\n",
              "        const buttonEl =\n",
              "          document.querySelector('#df-ef154d1a-d7c3-4e61-ad93-7ada2cd1b84a button.colab-df-convert');\n",
              "        buttonEl.style.display =\n",
              "          google.colab.kernel.accessAllowed ? 'block' : 'none';\n",
              "\n",
              "        async function convertToInteractive(key) {\n",
              "          const element = document.querySelector('#df-ef154d1a-d7c3-4e61-ad93-7ada2cd1b84a');\n",
              "          const dataTable =\n",
              "            await google.colab.kernel.invokeFunction('convertToInteractive',\n",
              "                                                     [key], {});\n",
              "          if (!dataTable) return;\n",
              "\n",
              "          const docLinkHtml = 'Like what you see? Visit the ' +\n",
              "            '<a target=\"_blank\" href=https://colab.research.google.com/notebooks/data_table.ipynb>data table notebook</a>'\n",
              "            + ' to learn more about interactive tables.';\n",
              "          element.innerHTML = '';\n",
              "          dataTable['output_type'] = 'display_data';\n",
              "          await google.colab.output.renderOutput(dataTable, element);\n",
              "          const docLink = document.createElement('div');\n",
              "          docLink.innerHTML = docLinkHtml;\n",
              "          element.appendChild(docLink);\n",
              "        }\n",
              "      </script>\n",
              "    </div>\n",
              "  </div>\n",
              "  "
            ]
          },
          "metadata": {},
          "execution_count": 2
        }
      ]
    },
    {
      "cell_type": "code",
      "source": [
        "test = pd.read_csv(\"/content/drive/MyDrive/test_data_evaluation_part2.csv\", index_col=False)"
      ],
      "metadata": {
        "id": "AdSgWSz51uwq"
      },
      "execution_count": 3,
      "outputs": []
    },
    {
      "cell_type": "code",
      "source": [
        "train.shape"
      ],
      "metadata": {
        "colab": {
          "base_uri": "https://localhost:8080/"
        },
        "id": "bgsEI09b1zwF",
        "outputId": "e6ad7464-8e19-4416-f5ed-5cd609cebe7f"
      },
      "execution_count": 4,
      "outputs": [
        {
          "output_type": "execute_result",
          "data": {
            "text/plain": [
              "(82580, 30)"
            ]
          },
          "metadata": {},
          "execution_count": 4
        }
      ]
    },
    {
      "cell_type": "code",
      "source": [
        "test.shape"
      ],
      "metadata": {
        "colab": {
          "base_uri": "https://localhost:8080/"
        },
        "id": "k4mcm6Ri11NA",
        "outputId": "c49cd75e-c101-45c9-dae8-0d736bfd6cf0"
      },
      "execution_count": 5,
      "outputs": [
        {
          "output_type": "execute_result",
          "data": {
            "text/plain": [
              "(1000, 30)"
            ]
          },
          "metadata": {},
          "execution_count": 5
        }
      ]
    },
    {
      "cell_type": "markdown",
      "source": [
        "I am going to be combining these two cols to make it easy working with the data i.e is to make changes and encoding and all."
      ],
      "metadata": {
        "id": "VuEhApmV4JBt"
      }
    },
    {
      "cell_type": "code",
      "source": [
        "df = pd.concat([train,test],axis=0)# concating by rows\n",
        "df.shape"
      ],
      "metadata": {
        "colab": {
          "base_uri": "https://localhost:8080/"
        },
        "id": "cXoGMpm87J7x",
        "outputId": "33a3906b-8049-4d93-abec-6f5b9d4e97cd"
      },
      "execution_count": 6,
      "outputs": [
        {
          "output_type": "execute_result",
          "data": {
            "text/plain": [
              "(83580, 30)"
            ]
          },
          "metadata": {},
          "execution_count": 6
        }
      ]
    },
    {
      "cell_type": "markdown",
      "source": [
        "Let's take a look at the dtypes of the columns of the dataframe"
      ],
      "metadata": {
        "id": "___3tt5l7hIC"
      }
    },
    {
      "cell_type": "code",
      "source": [
        "df.info()"
      ],
      "metadata": {
        "colab": {
          "base_uri": "https://localhost:8080/"
        },
        "id": "P1_l14wR7QUB",
        "outputId": "d0ad5ffe-06d9-4b12-e669-9827a6a9373f"
      },
      "execution_count": 7,
      "outputs": [
        {
          "output_type": "stream",
          "name": "stdout",
          "text": [
            "<class 'pandas.core.frame.DataFrame'>\n",
            "Int64Index: 83580 entries, 0 to 999\n",
            "Data columns (total 30 columns):\n",
            " #   Column                Non-Null Count  Dtype  \n",
            "---  ------                --------------  -----  \n",
            " 0   Unnamed: 0            83580 non-null  int64  \n",
            " 1   ID                    83580 non-null  int64  \n",
            " 2   Nationality           83580 non-null  object \n",
            " 3   Age                   79801 non-null  float64\n",
            " 4   DaysSinceCreation     83580 non-null  int64  \n",
            " 5   AverageLeadTime       83580 non-null  int64  \n",
            " 6   LodgingRevenue        83580 non-null  float64\n",
            " 7   OtherRevenue          83580 non-null  float64\n",
            " 8   BookingsCanceled      83580 non-null  int64  \n",
            " 9   BookingsNoShowed      83580 non-null  int64  \n",
            " 10  BookingsCheckedIn     83580 non-null  int64  \n",
            " 11  PersonsNights         83580 non-null  int64  \n",
            " 12  RoomNights            83580 non-null  int64  \n",
            " 13  DaysSinceLastStay     83580 non-null  int64  \n",
            " 14  DaysSinceFirstStay    83580 non-null  int64  \n",
            " 15  DistributionChannel   83580 non-null  object \n",
            " 16  MarketSegment         83580 non-null  object \n",
            " 17  SRHighFloor           83580 non-null  int64  \n",
            " 18  SRLowFloor            83580 non-null  int64  \n",
            " 19  SRAccessibleRoom      83580 non-null  int64  \n",
            " 20  SRMediumFloor         83580 non-null  int64  \n",
            " 21  SRBathtub             83580 non-null  int64  \n",
            " 22  SRShower              83580 non-null  int64  \n",
            " 23  SRCrib                83580 non-null  int64  \n",
            " 24  SRKingSizeBed         83580 non-null  int64  \n",
            " 25  SRTwinBed             83580 non-null  int64  \n",
            " 26  SRNearElevator        83580 non-null  int64  \n",
            " 27  SRAwayFromElevator    83580 non-null  int64  \n",
            " 28  SRNoAlcoholInMiniBar  83580 non-null  int64  \n",
            " 29  SRQuietRoom           83580 non-null  int64  \n",
            "dtypes: float64(3), int64(24), object(3)\n",
            "memory usage: 19.8+ MB\n"
          ]
        }
      ]
    },
    {
      "cell_type": "markdown",
      "source": [
        "Most of the columns are in numeric format which is a good thing when it comes to training. I want to see the unique values of each object column"
      ],
      "metadata": {
        "id": "GWlL07oZ7sPl"
      }
    },
    {
      "cell_type": "code",
      "source": [
        "def unique_obj_col_value(df):\n",
        "  for column in df:\n",
        "    if df[column].dtype == 'object':\n",
        "      print(f'{column}: {df[column].unique()}')"
      ],
      "metadata": {
        "id": "bexBH-_h7mBq"
      },
      "execution_count": 8,
      "outputs": []
    },
    {
      "cell_type": "code",
      "source": [
        "unique_obj_col_value(df)"
      ],
      "metadata": {
        "colab": {
          "base_uri": "https://localhost:8080/"
        },
        "id": "p5hOsvjk8A6l",
        "outputId": "828c1e83-c887-4a8d-fa5e-7ff91177a388"
      },
      "execution_count": 9,
      "outputs": [
        {
          "output_type": "stream",
          "name": "stdout",
          "text": [
            "Nationality: ['PRT' 'DEU' 'FRA' 'JPN' 'IRL' 'ESP' 'BEL' 'NLD' 'AUT' 'ITA' 'CHN' 'RUS'\n",
            " 'POL' 'USA' 'HUN' 'CRI' 'MEX' 'CHE' 'ROU' 'GBR' 'BIH' 'BRA' 'FIN' 'AGO'\n",
            " 'CAN' 'ZAF' 'TWN' 'GRC' 'AUS' 'ISR' 'BGR' 'SAU' 'SWE' 'CYP' 'ARG' 'ARM'\n",
            " 'CHL' 'MAR' 'MOZ' 'KOR' 'TUN' 'DNK' 'NOR' 'MYS' 'EGY' 'IND' 'HRV' 'CPV'\n",
            " 'JOR' 'COD' 'DZA' 'LUX' 'TUR' 'IRN' 'LBY' 'PAN' 'COL' 'VEN' 'GNB' 'CZE'\n",
            " 'AND' 'SVN' 'PER' 'ATF' 'UGA' 'AZE' 'NZL' 'LTU' 'SRB' 'EST' 'KAZ' 'KWT'\n",
            " 'IDN' 'UKR' 'SVK' 'MLI' 'ARE' 'BGD' 'THA' 'TZA' 'LVA' 'PHL' 'BHR' 'NAM'\n",
            " 'BOL' 'SGP' 'CMR' 'MLT' 'URY' 'PAK' 'JAM' 'ECU' 'SYC' 'QAT' 'PRY' 'BRB'\n",
            " 'OMN' 'TMP' 'ABW' 'LBN' 'AIA' 'SLV' 'DMA' 'CUB' 'VNM' 'GEO' 'IRQ' 'GAB'\n",
            " 'PYF' 'LIE' 'SEN' 'BLR' 'ISL' 'DOM' 'GUY' 'LCA' 'ATA' 'NGA' 'RWA' 'CIV'\n",
            " 'ALB' 'MKD' 'MNE' 'GTM' 'GHA' 'MDV' 'MCO' 'MUS' 'SYR' 'TGO' 'LKA' 'SUR'\n",
            " 'KEN' 'MRT' 'HKG' 'CAF' 'NCL' 'STP' 'UZB' 'KIR' 'SDN' 'PRI' 'KNA' 'TJK'\n",
            " 'SLE' 'LAO' 'COM' 'ETH' 'FRO' 'BEN' 'ZWE' 'ASM' 'BWA' 'ERI' 'SPM' 'JEY'\n",
            " 'GNQ' 'MDG' 'GIN' 'NIC' 'SWZ' 'CYM' 'SOM' 'ATG' 'KGZ' 'FLK' 'GIB' 'BHS'\n",
            " 'SMR' 'UMI' 'HTI' 'TKM' 'PNG' 'MMR' 'WLF' 'WSM' 'IOT' 'VIR' 'NRU' 'MWI'\n",
            " 'VCT' 'GUF' 'PCN' 'FJI' 'TON' 'TCD' 'YEM' 'NPL']\n",
            "DistributionChannel: ['Corporate' 'Travel Agent/Operator' 'Direct' 'Electronic Distribution']\n",
            "MarketSegment: ['Corporate' 'Travel Agent/Operator' 'Other' 'Direct' 'Complementary'\n",
            " 'Groups' 'Aviation']\n"
          ]
        }
      ]
    },
    {
      "cell_type": "code",
      "source": [
        "df['Nationality'].nunique()"
      ],
      "metadata": {
        "colab": {
          "base_uri": "https://localhost:8080/"
        },
        "id": "tCRfWKio8EH9",
        "outputId": "a00b20ac-360e-48d2-a20b-2bc788f8eab6"
      },
      "execution_count": 10,
      "outputs": [
        {
          "output_type": "execute_result",
          "data": {
            "text/plain": [
              "188"
            ]
          },
          "metadata": {},
          "execution_count": 10
        }
      ]
    },
    {
      "cell_type": "markdown",
      "source": [
        "The nationality column has 188 unique values in it. If we were to use one hot encoding then we would end up with additional 188 columns aside from the already existing ones. What I can do here is that I can collapse the values into 'Other' if they have a value count of less than let's say 1000."
      ],
      "metadata": {
        "id": "K_N-wb6F-qWb"
      }
    },
    {
      "cell_type": "code",
      "source": [
        "df.Nationality.value_counts()\n"
      ],
      "metadata": {
        "colab": {
          "base_uri": "https://localhost:8080/"
        },
        "id": "7xlWrM0A-Txx",
        "outputId": "275d03cb-1e1b-441b-db44-1dae5edd6ff2"
      },
      "execution_count": 11,
      "outputs": [
        {
          "output_type": "execute_result",
          "data": {
            "text/plain": [
              "FRA    12418\n",
              "PRT    11593\n",
              "DEU    10232\n",
              "GBR     8656\n",
              "ESP     4902\n",
              "       ...  \n",
              "GIN        1\n",
              "KNA        1\n",
              "GNQ        1\n",
              "JEY        1\n",
              "NPL        1\n",
              "Name: Nationality, Length: 188, dtype: int64"
            ]
          },
          "metadata": {},
          "execution_count": 11
        }
      ]
    },
    {
      "cell_type": "code",
      "source": [
        "def collapse_category(df):\n",
        "  s = df['Nationality'].value_counts()\n",
        "  df.loc[df['Nationality'].isin(s[s<1000].index), 'Nationality'] = 'Others'\n",
        "  print(df['Nationality'].unique())\n",
        "  print(df['Nationality'].nunique())"
      ],
      "metadata": {
        "id": "RVwVN0gh_mnO"
      },
      "execution_count": 12,
      "outputs": []
    },
    {
      "cell_type": "code",
      "source": [
        "collapse_category(df)"
      ],
      "metadata": {
        "colab": {
          "base_uri": "https://localhost:8080/"
        },
        "id": "T3d73EgrBWxF",
        "outputId": "c3e128a3-6dec-435e-d87c-48184e2c31d0"
      },
      "execution_count": 13,
      "outputs": [
        {
          "output_type": "stream",
          "name": "stdout",
          "text": [
            "['PRT' 'DEU' 'FRA' 'Others' 'IRL' 'ESP' 'BEL' 'NLD' 'AUT' 'ITA' 'USA'\n",
            " 'CHE' 'GBR' 'BRA' 'CAN' 'SWE']\n",
            "16\n"
          ]
        }
      ]
    },
    {
      "cell_type": "markdown",
      "source": [
        "As you can see, we now ended up with 16 unique values which is way better than 188. All we have to do now is to encode the categorical cols. But before that let's do some visualization to understand what is going on. I particularly want to see if the room characteristics has anything to do with customers checkingin."
      ],
      "metadata": {
        "id": "DSY31viXMBth"
      }
    },
    {
      "cell_type": "code",
      "source": [
        "sns.set()\n",
        "fig = plt.figure(figsize=(12,6))\n",
        "sns.histplot(df.AverageLeadTime)\n",
        "plt.axvline(x=df['AverageLeadTime'].mean(),\n",
        "            color='red')\n",
        "plt.title(\"Distribution of AverageLeadTime\",size=15)\n",
        "plt.show()"
      ],
      "metadata": {
        "colab": {
          "base_uri": "https://localhost:8080/",
          "height": 412
        },
        "id": "hejAdlbtBZHV",
        "outputId": "38a4a7a2-e43f-4467-f565-da7e30915a40"
      },
      "execution_count": 14,
      "outputs": [
        {
          "output_type": "display_data",
          "data": {
            "text/plain": [
              "<Figure size 864x432 with 1 Axes>"
            ],
            "image/png": "[encoded data removed]"
          },
          "metadata": {}
        }
      ]
    },
    {
      "cell_type": "markdown",
      "source": [
        "On average the customers are taking around 80 minutes to complete there checkin(book) for the room"
      ],
      "metadata": {
        "id": "Ln8V_G7mmsoL"
      }
    },
    {
      "cell_type": "code",
      "source": [
        "fig = plt.figure(figsize=(12, 6))\n",
        "sns.countplot(df['Nationality'])\n",
        "plt.title(\"Bookings Count per Country\", size=15)\n",
        "plt.show()"
      ],
      "metadata": {
        "id": "AVk6n4vPxsue",
        "colab": {
          "base_uri": "https://localhost:8080/",
          "height": 467
        },
        "outputId": "8055ce4d-ce28-47d3-ce3d-55b47fc3e3cb"
      },
      "execution_count": 15,
      "outputs": [
        {
          "output_type": "stream",
          "name": "stderr",
          "text": [
            "/usr/local/lib/python3.7/dist-packages/seaborn/_decorators.py:43: FutureWarning: Pass the following variable as a keyword arg: x. From version 0.12, the only valid positional argument will be `data`, and passing other arguments without an explicit keyword will result in an error or misinterpretation.\n",
            "  FutureWarning\n"
          ]
        },
        {
          "output_type": "display_data",
          "data": {
            "text/plain": [
              "<Figure size 864x432 with 1 Axes>"
            ],
            "image/png": "[encoded data removed]"
          },
          "metadata": {}
        }
      ]
    },
    {
      "cell_type": "markdown",
      "source": [
        "France has more entries in the dataset.Sweden being the lowest (While not considering \"Others\")"
      ],
      "metadata": {
        "id": "K5E5W-A9o_3-"
      }
    },
    {
      "cell_type": "code",
      "source": [
        "fig = plt.figure(figsize=(12, 6))\n",
        "sns.histplot(df['Age'], bins=20)\n",
        "plt.title(\"Distribution of Age\", size=15)\n",
        "plt.show()"
      ],
      "metadata": {
        "colab": {
          "base_uri": "https://localhost:8080/",
          "height": 412
        },
        "id": "r9YTxLCCimUf",
        "outputId": "a7641236-5fcb-4535-c95f-019241ff6172"
      },
      "execution_count": 16,
      "outputs": [
        {
          "output_type": "display_data",
          "data": {
            "text/plain": [
              "<Figure size 864x432 with 1 Axes>"
            ],
            "image/png": "[encoded data removed]"
          },
          "metadata": {}
        }
      ]
    },
    {
      "cell_type": "markdown",
      "source": [
        "So most of the bookings are done by people aged between 50-55."
      ],
      "metadata": {
        "id": "s-IK1Q4Qqax-"
      }
    },
    {
      "cell_type": "code",
      "source": [
        "fig = plt.figure(figsize=(12,6))\n",
        "avg_yes = df[df['BookingsCheckedIn'] > 0].AverageLeadTime\n",
        "avg_no = df[df['BookingsCheckedIn'] == 0].AverageLeadTime\n",
        "plt.hist([avg_yes, avg_no], rwidth=0.95, color=['green','red'],label=['Checked In=Yes','Checked In=No'])\n",
        "plt.legend()\n",
        "plt.show()"
      ],
      "metadata": {
        "colab": {
          "base_uri": "https://localhost:8080/",
          "height": 466
        },
        "id": "sr7UWuJEqLTM",
        "outputId": "6e8b8552-bb19-47fd-bd08-c45318e46e69"
      },
      "execution_count": 17,
      "outputs": [
        {
          "output_type": "stream",
          "name": "stderr",
          "text": [
            "/usr/local/lib/python3.7/dist-packages/numpy/core/fromnumeric.py:3208: VisibleDeprecationWarning: Creating an ndarray from ragged nested sequences (which is a list-or-tuple of lists-or-tuples-or ndarrays with different lengths or shapes) is deprecated. If you meant to do this, you must specify 'dtype=object' when creating the ndarray.\n",
            "  return asarray(a).size\n",
            "/usr/local/lib/python3.7/dist-packages/matplotlib/cbook/__init__.py:1376: VisibleDeprecationWarning: Creating an ndarray from ragged nested sequences (which is a list-or-tuple of lists-or-tuples-or ndarrays with different lengths or shapes) is deprecated. If you meant to do this, you must specify 'dtype=object' when creating the ndarray.\n",
            "  X = np.atleast_1d(X.T if isinstance(X, np.ndarray) else np.asarray(X))\n"
          ]
        },
        {
          "output_type": "display_data",
          "data": {
            "text/plain": [
              "<Figure size 864x432 with 1 Axes>"
            ],
            "image/png": "[encoded data removed]"
          },
          "metadata": {}
        }
      ]
    },
    {
      "cell_type": "markdown",
      "source": [
        "### **Lead Time**: the number of days between the time a guest books their room and the time they are scheduled to arrive at the hotel.\n",
        "\n",
        "I am going to consider the data as days. On average The lead time for customers who check in is around 10-15 days. For the customers who did not check in it was around 20-25 days."
      ],
      "metadata": {
        "id": "FfQYSnVrsWmK"
      }
    },
    {
      "cell_type": "markdown",
      "source": [
        "Since we are to predict whether a customer has checked in or not, we are going to take \"BookingsCheckedIn\" as our target variable. But when we take a look at it, it is not a binary type column(0 or 1). Since we only need whether customers checked in we are going to replace every thing greater that 0 to 1."
      ],
      "metadata": {
        "id": "6ckEcOTAgSxR"
      }
    },
    {
      "cell_type": "code",
      "source": [
        "df['BookingsCheckedIn'].unique()"
      ],
      "metadata": {
        "colab": {
          "base_uri": "https://localhost:8080/"
        },
        "id": "scZzz2FKgFW6",
        "outputId": "f596ca38-3114-45bf-dff0-f5c90bdab21c"
      },
      "execution_count": 18,
      "outputs": [
        {
          "output_type": "execute_result",
          "data": {
            "text/plain": [
              "array([ 3,  1,  0,  9,  2, 11, 12,  7,  8,  5,  6,  4, 66, 15, 29, 25, 10,\n",
              "       17, 13, 26, 23, 57, 40, 18, 14, 24, 19, 20, 34])"
            ]
          },
          "metadata": {},
          "execution_count": 18
        }
      ]
    },
    {
      "cell_type": "code",
      "source": [
        "df['BookingsCheckedIn'] = df['BookingsCheckedIn'].replace([ 3,  1, 9,  2, 11, 12,  7,  8,  5,  6,  4, 66, 15, 29, 25, 10,\n",
        "       17, 13, 26, 23, 57, 40, 18, 14, 24, 19, 20, 34], 1)"
      ],
      "metadata": {
        "id": "GIqoDWBhflHx"
      },
      "execution_count": 19,
      "outputs": []
    },
    {
      "cell_type": "markdown",
      "source": [
        "## One Hot Encoding"
      ],
      "metadata": {
        "id": "REcCs8nBdNtv"
      }
    },
    {
      "cell_type": "code",
      "source": [
        "df.drop('Nationality', axis=1,inplace=True)"
      ],
      "metadata": {
        "id": "KjHOJA7fcjZP"
      },
      "execution_count": 20,
      "outputs": []
    },
    {
      "cell_type": "code",
      "source": [
        "cols = ['DistributionChannel', 'MarketSegment']\n",
        "le = LabelEncoder()\n",
        "for col in cols:\n",
        "  df[col] = le.fit_transform(df[col])\n"
      ],
      "metadata": {
        "id": "BCiGyxnprYii"
      },
      "execution_count": 21,
      "outputs": []
    },
    {
      "cell_type": "code",
      "source": [
        "df.drop(['Unnamed: 0', 'ID'], axis=1, inplace=True)\n",
        "df.info()\n"
      ],
      "metadata": {
        "colab": {
          "base_uri": "https://localhost:8080/"
        },
        "id": "OAvRqSpZunBj",
        "outputId": "065fda5d-4ab2-43f1-97a8-ba9a99f8b935"
      },
      "execution_count": 22,
      "outputs": [
        {
          "output_type": "stream",
          "name": "stdout",
          "text": [
            "<class 'pandas.core.frame.DataFrame'>\n",
            "Int64Index: 83580 entries, 0 to 999\n",
            "Data columns (total 27 columns):\n",
            " #   Column                Non-Null Count  Dtype  \n",
            "---  ------                --------------  -----  \n",
            " 0   Age                   79801 non-null  float64\n",
            " 1   DaysSinceCreation     83580 non-null  int64  \n",
            " 2   AverageLeadTime       83580 non-null  int64  \n",
            " 3   LodgingRevenue        83580 non-null  float64\n",
            " 4   OtherRevenue          83580 non-null  float64\n",
            " 5   BookingsCanceled      83580 non-null  int64  \n",
            " 6   BookingsNoShowed      83580 non-null  int64  \n",
            " 7   BookingsCheckedIn     83580 non-null  int64  \n",
            " 8   PersonsNights         83580 non-null  int64  \n",
            " 9   RoomNights            83580 non-null  int64  \n",
            " 10  DaysSinceLastStay     83580 non-null  int64  \n",
            " 11  DaysSinceFirstStay    83580 non-null  int64  \n",
            " 12  DistributionChannel   83580 non-null  int64  \n",
            " 13  MarketSegment         83580 non-null  int64  \n",
            " 14  SRHighFloor           83580 non-null  int64  \n",
            " 15  SRLowFloor            83580 non-null  int64  \n",
            " 16  SRAccessibleRoom      83580 non-null  int64  \n",
            " 17  SRMediumFloor         83580 non-null  int64  \n",
            " 18  SRBathtub             83580 non-null  int64  \n",
            " 19  SRShower              83580 non-null  int64  \n",
            " 20  SRCrib                83580 non-null  int64  \n",
            " 21  SRKingSizeBed         83580 non-null  int64  \n",
            " 22  SRTwinBed             83580 non-null  int64  \n",
            " 23  SRNearElevator        83580 non-null  int64  \n",
            " 24  SRAwayFromElevator    83580 non-null  int64  \n",
            " 25  SRNoAlcoholInMiniBar  83580 non-null  int64  \n",
            " 26  SRQuietRoom           83580 non-null  int64  \n",
            "dtypes: float64(3), int64(24)\n",
            "memory usage: 19.9 MB\n"
          ]
        }
      ]
    },
    {
      "cell_type": "code",
      "source": [
        "df.head()"
      ],
      "metadata": {
        "colab": {
          "base_uri": "https://localhost:8080/",
          "height": 300
        },
        "id": "6VmFhHwUdvi4",
        "outputId": "2630f3b3-b81b-44d1-c25c-78d499cf004a"
      },
      "execution_count": 23,
      "outputs": [
        {
          "output_type": "execute_result",
          "data": {
            "text/plain": [
              "    Age  DaysSinceCreation  AverageLeadTime  LodgingRevenue  OtherRevenue  \\\n",
              "0  51.0                150               45           371.0         105.3   \n",
              "1   NaN               1095               61           280.0          53.0   \n",
              "2  31.0               1095                0             0.0           0.0   \n",
              "3  60.0               1095               93           240.0          60.0   \n",
              "4  51.0               1095                0             0.0           0.0   \n",
              "\n",
              "   BookingsCanceled  BookingsNoShowed  BookingsCheckedIn  PersonsNights  \\\n",
              "0                 1                 0                  1              8   \n",
              "1                 0                 0                  1             10   \n",
              "2                 0                 0                  0              0   \n",
              "3                 0                 0                  1             10   \n",
              "4                 0                 0                  0              0   \n",
              "\n",
              "   RoomNights  ...  SRMediumFloor  SRBathtub  SRShower  SRCrib  SRKingSizeBed  \\\n",
              "0           5  ...              0          0         0       0              0   \n",
              "1           5  ...              0          0         0       0              0   \n",
              "2           0  ...              0          0         0       0              0   \n",
              "3           5  ...              0          0         0       0              0   \n",
              "4           0  ...              0          0         0       0              0   \n",
              "\n",
              "   SRTwinBed  SRNearElevator  SRAwayFromElevator  SRNoAlcoholInMiniBar  \\\n",
              "0          0               0                   0                     0   \n",
              "1          0               0                   0                     0   \n",
              "2          0               0                   0                     0   \n",
              "3          0               0                   0                     0   \n",
              "4          0               0                   0                     0   \n",
              "\n",
              "   SRQuietRoom  \n",
              "0            0  \n",
              "1            0  \n",
              "2            0  \n",
              "3            0  \n",
              "4            0  \n",
              "\n",
              "[5 rows x 27 columns]"
            ],
            "text/html": [
              "\n",
              "  <div id=\"df-1fe278f2-1685-4685-8ae9-d536c7ed1de3\">\n",
              "    <div class=\"colab-df-container\">\n",
              "      <div>\n",
              "<style scoped>\n",
              "    .dataframe tbody tr th:only-of-type {\n",
              "        vertical-align: middle;\n",
              "    }\n",
              "\n",
              "    .dataframe tbody tr th {\n",
              "        vertical-align: top;\n",
              "    }\n",
              "\n",
              "    .dataframe thead th {\n",
              "        text-align: right;\n",
              "    }\n",
              "</style>\n",
              "<table border=\"1\" class=\"dataframe\">\n",
              "  <thead>\n",
              "    <tr style=\"text-align: right;\">\n",
              "      <th></th>\n",
              "      <th>Age</th>\n",
              "      <th>DaysSinceCreation</th>\n",
              "      <th>AverageLeadTime</th>\n",
              "      <th>LodgingRevenue</th>\n",
              "      <th>OtherRevenue</th>\n",
              "      <th>BookingsCanceled</th>\n",
              "      <th>BookingsNoShowed</th>\n",
              "      <th>BookingsCheckedIn</th>\n",
              "      <th>PersonsNights</th>\n",
              "      <th>RoomNights</th>\n",
              "      <th>...</th>\n",
              "      <th>SRMediumFloor</th>\n",
              "      <th>SRBathtub</th>\n",
              "      <th>SRShower</th>\n",
              "      <th>SRCrib</th>\n",
              "      <th>SRKingSizeBed</th>\n",
              "      <th>SRTwinBed</th>\n",
              "      <th>SRNearElevator</th>\n",
              "      <th>SRAwayFromElevator</th>\n",
              "      <th>SRNoAlcoholInMiniBar</th>\n",
              "      <th>SRQuietRoom</th>\n",
              "    </tr>\n",
              "  </thead>\n",
              "  <tbody>\n",
              "    <tr>\n",
              "      <th>0</th>\n",
              "      <td>51.0</td>\n",
              "      <td>150</td>\n",
              "      <td>45</td>\n",
              "      <td>371.0</td>\n",
              "      <td>105.3</td>\n",
              "      <td>1</td>\n",
              "      <td>0</td>\n",
              "      <td>1</td>\n",
              "      <td>8</td>\n",
              "      <td>5</td>\n",
              "      <td>...</td>\n",
              "      <td>0</td>\n",
              "      <td>0</td>\n",
              "      <td>0</td>\n",
              "      <td>0</td>\n",
              "      <td>0</td>\n",
              "      <td>0</td>\n",
              "      <td>0</td>\n",
              "      <td>0</td>\n",
              "      <td>0</td>\n",
              "      <td>0</td>\n",
              "    </tr>\n",
              "    <tr>\n",
              "      <th>1</th>\n",
              "      <td>NaN</td>\n",
              "      <td>1095</td>\n",
              "      <td>61</td>\n",
              "      <td>280.0</td>\n",
              "      <td>53.0</td>\n",
              "      <td>0</td>\n",
              "      <td>0</td>\n",
              "      <td>1</td>\n",
              "      <td>10</td>\n",
              "      <td>5</td>\n",
              "      <td>...</td>\n",
              "      <td>0</td>\n",
              "      <td>0</td>\n",
              "      <td>0</td>\n",
              "      <td>0</td>\n",
              "      <td>0</td>\n",
              "      <td>0</td>\n",
              "      <td>0</td>\n",
              "      <td>0</td>\n",
              "      <td>0</td>\n",
              "      <td>0</td>\n",
              "    </tr>\n",
              "    <tr>\n",
              "      <th>2</th>\n",
              "      <td>31.0</td>\n",
              "      <td>1095</td>\n",
              "      <td>0</td>\n",
              "      <td>0.0</td>\n",
              "      <td>0.0</td>\n",
              "      <td>0</td>\n",
              "      <td>0</td>\n",
              "      <td>0</td>\n",
              "      <td>0</td>\n",
              "      <td>0</td>\n",
              "      <td>...</td>\n",
              "      <td>0</td>\n",
              "      <td>0</td>\n",
              "      <td>0</td>\n",
              "      <td>0</td>\n",
              "      <td>0</td>\n",
              "      <td>0</td>\n",
              "      <td>0</td>\n",
              "      <td>0</td>\n",
              "      <td>0</td>\n",
              "      <td>0</td>\n",
              "    </tr>\n",
              "    <tr>\n",
              "      <th>3</th>\n",
              "      <td>60.0</td>\n",
              "      <td>1095</td>\n",
              "      <td>93</td>\n",
              "      <td>240.0</td>\n",
              "      <td>60.0</td>\n",
              "      <td>0</td>\n",
              "      <td>0</td>\n",
              "      <td>1</td>\n",
              "      <td>10</td>\n",
              "      <td>5</td>\n",
              "      <td>...</td>\n",
              "      <td>0</td>\n",
              "      <td>0</td>\n",
              "      <td>0</td>\n",
              "      <td>0</td>\n",
              "      <td>0</td>\n",
              "      <td>0</td>\n",
              "      <td>0</td>\n",
              "      <td>0</td>\n",
              "      <td>0</td>\n",
              "      <td>0</td>\n",
              "    </tr>\n",
              "    <tr>\n",
              "      <th>4</th>\n",
              "      <td>51.0</td>\n",
              "      <td>1095</td>\n",
              "      <td>0</td>\n",
              "      <td>0.0</td>\n",
              "      <td>0.0</td>\n",
              "      <td>0</td>\n",
              "      <td>0</td>\n",
              "      <td>0</td>\n",
              "      <td>0</td>\n",
              "      <td>0</td>\n",
              "      <td>...</td>\n",
              "      <td>0</td>\n",
              "      <td>0</td>\n",
              "      <td>0</td>\n",
              "      <td>0</td>\n",
              "      <td>0</td>\n",
              "      <td>0</td>\n",
              "      <td>0</td>\n",
              "      <td>0</td>\n",
              "      <td>0</td>\n",
              "      <td>0</td>\n",
              "    </tr>\n",
              "  </tbody>\n",
              "</table>\n",
              "<p>5 rows × 27 columns</p>\n",
              "</div>\n",
              "      <button class=\"colab-df-convert\" onclick=\"convertToInteractive('df-1fe278f2-1685-4685-8ae9-d536c7ed1de3')\"\n",
              "              title=\"Convert this dataframe to an interactive table.\"\n",
              "              style=\"display:none;\">\n",
              "        \n",
              "  <svg xmlns=\"http://www.w3.org/2000/svg\" height=\"24px\"viewBox=\"0 0 24 24\"\n",
              "       width=\"24px\">\n",
              "    <path d=\"M0 0h24v24H0V0z\" fill=\"none\"/>\n",
              "    <path d=\"M18.56 5.44l.94 2.06.94-2.06 2.06-.94-2.06-.94-.94-2.06-.94 2.06-2.06.94zm-11 1L8.5 8.5l.94-2.06 2.06-.94-2.06-.94L8.5 2.5l-.94 2.06-2.06.94zm10 10l.94 2.06.94-2.06 2.06-.94-2.06-.94-.94-2.06-.94 2.06-2.06.94z\"/><path d=\"M17.41 7.96l-1.37-1.37c-.4-.4-.92-.59-1.43-.59-.52 0-1.04.2-1.43.59L10.3 9.45l-7.72 7.72c-.78.78-.78 2.05 0 2.83L4 21.41c.39.39.9.59 1.41.59.51 0 1.02-.2 1.41-.59l7.78-7.78 2.81-2.81c.8-.78.8-2.07 0-2.86zM5.41 20L4 18.59l7.72-7.72 1.47 1.35L5.41 20z\"/>\n",
              "  </svg>\n",
              "      </button>\n",
              "      \n",
              "  <style>\n",
              "    .colab-df-container {\n",
              "      display:flex;\n",
              "      flex-wrap:wrap;\n",
              "      gap: 12px;\n",
              "    }\n",
              "\n",
              "    .colab-df-convert {\n",
              "      background-color: #E8F0FE;\n",
              "      border: none;\n",
              "      border-radius: 50%;\n",
              "      cursor: pointer;\n",
              "      display: none;\n",
              "      fill: #1967D2;\n",
              "      height: 32px;\n",
              "      padding: 0 0 0 0;\n",
              "      width: 32px;\n",
              "    }\n",
              "\n",
              "    .colab-df-convert:hover {\n",
              "      background-color: #E2EBFA;\n",
              "      box-shadow: 0px 1px 2px rgba(60, 64, 67, 0.3), 0px 1px 3px 1px rgba(60, 64, 67, 0.15);\n",
              "      fill: #174EA6;\n",
              "    }\n",
              "\n",
              "    [theme=dark] .colab-df-convert {\n",
              "      background-color: #3B4455;\n",
              "      fill: #D2E3FC;\n",
              "    }\n",
              "\n",
              "    [theme=dark] .colab-df-convert:hover {\n",
              "      background-color: #434B5C;\n",
              "      box-shadow: 0px 1px 3px 1px rgba(0, 0, 0, 0.15);\n",
              "      filter: drop-shadow(0px 1px 2px rgba(0, 0, 0, 0.3));\n",
              "      fill: #FFFFFF;\n",
              "    }\n",
              "  </style>\n",
              "\n",
              "      <script>\n",
              "        const buttonEl =\n",
              "          document.querySelector('#df-1fe278f2-1685-4685-8ae9-d536c7ed1de3 button.colab-df-convert');\n",
              "        buttonEl.style.display =\n",
              "          google.colab.kernel.accessAllowed ? 'block' : 'none';\n",
              "\n",
              "        async function convertToInteractive(key) {\n",
              "          const element = document.querySelector('#df-1fe278f2-1685-4685-8ae9-d536c7ed1de3');\n",
              "          const dataTable =\n",
              "            await google.colab.kernel.invokeFunction('convertToInteractive',\n",
              "                                                     [key], {});\n",
              "          if (!dataTable) return;\n",
              "\n",
              "          const docLinkHtml = 'Like what you see? Visit the ' +\n",
              "            '<a target=\"_blank\" href=https://colab.research.google.com/notebooks/data_table.ipynb>data table notebook</a>'\n",
              "            + ' to learn more about interactive tables.';\n",
              "          element.innerHTML = '';\n",
              "          dataTable['output_type'] = 'display_data';\n",
              "          await google.colab.output.renderOutput(dataTable, element);\n",
              "          const docLink = document.createElement('div');\n",
              "          docLink.innerHTML = docLinkHtml;\n",
              "          element.appendChild(docLink);\n",
              "        }\n",
              "      </script>\n",
              "    </div>\n",
              "  </div>\n",
              "  "
            ]
          },
          "metadata": {},
          "execution_count": 23
        }
      ]
    },
    {
      "cell_type": "code",
      "source": [
        "df.shape"
      ],
      "metadata": {
        "colab": {
          "base_uri": "https://localhost:8080/"
        },
        "id": "huew3Idnd8PA",
        "outputId": "cdfacaf4-22ff-426b-8bca-584f2f4f9d25"
      },
      "execution_count": 24,
      "outputs": [
        {
          "output_type": "execute_result",
          "data": {
            "text/plain": [
              "(83580, 27)"
            ]
          },
          "metadata": {},
          "execution_count": 24
        }
      ]
    },
    {
      "cell_type": "code",
      "source": [
        "df['Age'].fillna(np.mean(df['Age']),inplace=True)"
      ],
      "metadata": {
        "id": "C1I96aleeBi3"
      },
      "execution_count": 25,
      "outputs": []
    },
    {
      "cell_type": "code",
      "source": [
        "df.shape"
      ],
      "metadata": {
        "colab": {
          "base_uri": "https://localhost:8080/"
        },
        "id": "XL1b6ViYeEl3",
        "outputId": "ffb805ea-62ad-4afe-e678-a70180fd9019"
      },
      "execution_count": 26,
      "outputs": [
        {
          "output_type": "execute_result",
          "data": {
            "text/plain": [
              "(83580, 27)"
            ]
          },
          "metadata": {},
          "execution_count": 26
        }
      ]
    },
    {
      "cell_type": "markdown",
      "source": [
        "## Scaling the cols\n",
        "Since most of my values are either 0 or 1. I am going to scale my remaining data to be some where near it. I can use sklearn's MinMaxScaler() for achieving this."
      ],
      "metadata": {
        "id": "FIUQyoUPeihX"
      }
    },
    {
      "cell_type": "code",
      "source": [
        "cols_to_scale = ['Age','DaysSinceCreation', 'AverageLeadTime', 'LodgingRevenue', 'OtherRevenue', 'DaysSinceLastStay', 'DaysSinceFirstStay']\n",
        "scaler = MinMaxScaler()\n",
        "df[cols_to_scale] = scaler.fit_transform(df[cols_to_scale])"
      ],
      "metadata": {
        "id": "mOMamz72eVTI"
      },
      "execution_count": 27,
      "outputs": []
    },
    {
      "cell_type": "code",
      "source": [
        "df.head()"
      ],
      "metadata": {
        "colab": {
          "base_uri": "https://localhost:8080/",
          "height": 300
        },
        "id": "unbiJFPYfPU_",
        "outputId": "a1e0e1d7-ccef-4792-d311-0c7b8012aa0a"
      },
      "execution_count": 28,
      "outputs": [
        {
          "output_type": "execute_result",
          "data": {
            "text/plain": [
              "        Age  DaysSinceCreation  AverageLeadTime  LodgingRevenue  OtherRevenue  \\\n",
              "0  0.466165           0.136986         0.078098        0.017033      0.013622   \n",
              "1  0.424052           1.000000         0.105263        0.012855      0.006856   \n",
              "2  0.315789           1.000000         0.001698        0.000000      0.000000   \n",
              "3  0.533835           1.000000         0.159593        0.011019      0.007762   \n",
              "4  0.466165           1.000000         0.001698        0.000000      0.000000   \n",
              "\n",
              "   BookingsCanceled  BookingsNoShowed  BookingsCheckedIn  PersonsNights  \\\n",
              "0                 1                 0                  1              8   \n",
              "1                 0                 0                  1             10   \n",
              "2                 0                 0                  0              0   \n",
              "3                 0                 0                  1             10   \n",
              "4                 0                 0                  0              0   \n",
              "\n",
              "   RoomNights  ...  SRMediumFloor  SRBathtub  SRShower  SRCrib  SRKingSizeBed  \\\n",
              "0           5  ...              0          0         0       0              0   \n",
              "1           5  ...              0          0         0       0              0   \n",
              "2           0  ...              0          0         0       0              0   \n",
              "3           5  ...              0          0         0       0              0   \n",
              "4           0  ...              0          0         0       0              0   \n",
              "\n",
              "   SRTwinBed  SRNearElevator  SRAwayFromElevator  SRNoAlcoholInMiniBar  \\\n",
              "0          0               0                   0                     0   \n",
              "1          0               0                   0                     0   \n",
              "2          0               0                   0                     0   \n",
              "3          0               0                   0                     0   \n",
              "4          0               0                   0                     0   \n",
              "\n",
              "   SRQuietRoom  \n",
              "0            0  \n",
              "1            0  \n",
              "2            0  \n",
              "3            0  \n",
              "4            0  \n",
              "\n",
              "[5 rows x 27 columns]"
            ],
            "text/html": [
              "\n",
              "  <div id=\"df-c7e8aaa4-78df-420c-942c-5b37ec5d3b4d\">\n",
              "    <div class=\"colab-df-container\">\n",
              "      <div>\n",
              "<style scoped>\n",
              "    .dataframe tbody tr th:only-of-type {\n",
              "        vertical-align: middle;\n",
              "    }\n",
              "\n",
              "    .dataframe tbody tr th {\n",
              "        vertical-align: top;\n",
              "    }\n",
              "\n",
              "    .dataframe thead th {\n",
              "        text-align: right;\n",
              "    }\n",
              "</style>\n",
              "<table border=\"1\" class=\"dataframe\">\n",
              "  <thead>\n",
              "    <tr style=\"text-align: right;\">\n",
              "      <th></th>\n",
              "      <th>Age</th>\n",
              "      <th>DaysSinceCreation</th>\n",
              "      <th>AverageLeadTime</th>\n",
              "      <th>LodgingRevenue</th>\n",
              "      <th>OtherRevenue</th>\n",
              "      <th>BookingsCanceled</th>\n",
              "      <th>BookingsNoShowed</th>\n",
              "      <th>BookingsCheckedIn</th>\n",
              "      <th>PersonsNights</th>\n",
              "      <th>RoomNights</th>\n",
              "      <th>...</th>\n",
              "      <th>SRMediumFloor</th>\n",
              "      <th>SRBathtub</th>\n",
              "      <th>SRShower</th>\n",
              "      <th>SRCrib</th>\n",
              "      <th>SRKingSizeBed</th>\n",
              "      <th>SRTwinBed</th>\n",
              "      <th>SRNearElevator</th>\n",
              "      <th>SRAwayFromElevator</th>\n",
              "      <th>SRNoAlcoholInMiniBar</th>\n",
              "      <th>SRQuietRoom</th>\n",
              "    </tr>\n",
              "  </thead>\n",
              "  <tbody>\n",
              "    <tr>\n",
              "      <th>0</th>\n",
              "      <td>0.466165</td>\n",
              "      <td>0.136986</td>\n",
              "      <td>0.078098</td>\n",
              "      <td>0.017033</td>\n",
              "      <td>0.013622</td>\n",
              "      <td>1</td>\n",
              "      <td>0</td>\n",
              "      <td>1</td>\n",
              "      <td>8</td>\n",
              "      <td>5</td>\n",
              "      <td>...</td>\n",
              "      <td>0</td>\n",
              "      <td>0</td>\n",
              "      <td>0</td>\n",
              "      <td>0</td>\n",
              "      <td>0</td>\n",
              "      <td>0</td>\n",
              "      <td>0</td>\n",
              "      <td>0</td>\n",
              "      <td>0</td>\n",
              "      <td>0</td>\n",
              "    </tr>\n",
              "    <tr>\n",
              "      <th>1</th>\n",
              "      <td>0.424052</td>\n",
              "      <td>1.000000</td>\n",
              "      <td>0.105263</td>\n",
              "      <td>0.012855</td>\n",
              "      <td>0.006856</td>\n",
              "      <td>0</td>\n",
              "      <td>0</td>\n",
              "      <td>1</td>\n",
              "      <td>10</td>\n",
              "      <td>5</td>\n",
              "      <td>...</td>\n",
              "      <td>0</td>\n",
              "      <td>0</td>\n",
              "      <td>0</td>\n",
              "      <td>0</td>\n",
              "      <td>0</td>\n",
              "      <td>0</td>\n",
              "      <td>0</td>\n",
              "      <td>0</td>\n",
              "      <td>0</td>\n",
              "      <td>0</td>\n",
              "    </tr>\n",
              "    <tr>\n",
              "      <th>2</th>\n",
              "      <td>0.315789</td>\n",
              "      <td>1.000000</td>\n",
              "      <td>0.001698</td>\n",
              "      <td>0.000000</td>\n",
              "      <td>0.000000</td>\n",
              "      <td>0</td>\n",
              "      <td>0</td>\n",
              "      <td>0</td>\n",
              "      <td>0</td>\n",
              "      <td>0</td>\n",
              "      <td>...</td>\n",
              "      <td>0</td>\n",
              "      <td>0</td>\n",
              "      <td>0</td>\n",
              "      <td>0</td>\n",
              "      <td>0</td>\n",
              "      <td>0</td>\n",
              "      <td>0</td>\n",
              "      <td>0</td>\n",
              "      <td>0</td>\n",
              "      <td>0</td>\n",
              "    </tr>\n",
              "    <tr>\n",
              "      <th>3</th>\n",
              "      <td>0.533835</td>\n",
              "      <td>1.000000</td>\n",
              "      <td>0.159593</td>\n",
              "      <td>0.011019</td>\n",
              "      <td>0.007762</td>\n",
              "      <td>0</td>\n",
              "      <td>0</td>\n",
              "      <td>1</td>\n",
              "      <td>10</td>\n",
              "      <td>5</td>\n",
              "      <td>...</td>\n",
              "      <td>0</td>\n",
              "      <td>0</td>\n",
              "      <td>0</td>\n",
              "      <td>0</td>\n",
              "      <td>0</td>\n",
              "      <td>0</td>\n",
              "      <td>0</td>\n",
              "      <td>0</td>\n",
              "      <td>0</td>\n",
              "      <td>0</td>\n",
              "    </tr>\n",
              "    <tr>\n",
              "      <th>4</th>\n",
              "      <td>0.466165</td>\n",
              "      <td>1.000000</td>\n",
              "      <td>0.001698</td>\n",
              "      <td>0.000000</td>\n",
              "      <td>0.000000</td>\n",
              "      <td>0</td>\n",
              "      <td>0</td>\n",
              "      <td>0</td>\n",
              "      <td>0</td>\n",
              "      <td>0</td>\n",
              "      <td>...</td>\n",
              "      <td>0</td>\n",
              "      <td>0</td>\n",
              "      <td>0</td>\n",
              "      <td>0</td>\n",
              "      <td>0</td>\n",
              "      <td>0</td>\n",
              "      <td>0</td>\n",
              "      <td>0</td>\n",
              "      <td>0</td>\n",
              "      <td>0</td>\n",
              "    </tr>\n",
              "  </tbody>\n",
              "</table>\n",
              "<p>5 rows × 27 columns</p>\n",
              "</div>\n",
              "      <button class=\"colab-df-convert\" onclick=\"convertToInteractive('df-c7e8aaa4-78df-420c-942c-5b37ec5d3b4d')\"\n",
              "              title=\"Convert this dataframe to an interactive table.\"\n",
              "              style=\"display:none;\">\n",
              "        \n",
              "  <svg xmlns=\"http://www.w3.org/2000/svg\" height=\"24px\"viewBox=\"0 0 24 24\"\n",
              "       width=\"24px\">\n",
              "    <path d=\"M0 0h24v24H0V0z\" fill=\"none\"/>\n",
              "    <path d=\"M18.56 5.44l.94 2.06.94-2.06 2.06-.94-2.06-.94-.94-2.06-.94 2.06-2.06.94zm-11 1L8.5 8.5l.94-2.06 2.06-.94-2.06-.94L8.5 2.5l-.94 2.06-2.06.94zm10 10l.94 2.06.94-2.06 2.06-.94-2.06-.94-.94-2.06-.94 2.06-2.06.94z\"/><path d=\"M17.41 7.96l-1.37-1.37c-.4-.4-.92-.59-1.43-.59-.52 0-1.04.2-1.43.59L10.3 9.45l-7.72 7.72c-.78.78-.78 2.05 0 2.83L4 21.41c.39.39.9.59 1.41.59.51 0 1.02-.2 1.41-.59l7.78-7.78 2.81-2.81c.8-.78.8-2.07 0-2.86zM5.41 20L4 18.59l7.72-7.72 1.47 1.35L5.41 20z\"/>\n",
              "  </svg>\n",
              "      </button>\n",
              "      \n",
              "  <style>\n",
              "    .colab-df-container {\n",
              "      display:flex;\n",
              "      flex-wrap:wrap;\n",
              "      gap: 12px;\n",
              "    }\n",
              "\n",
              "    .colab-df-convert {\n",
              "      background-color: #E8F0FE;\n",
              "      border: none;\n",
              "      border-radius: 50%;\n",
              "      cursor: pointer;\n",
              "      display: none;\n",
              "      fill: #1967D2;\n",
              "      height: 32px;\n",
              "      padding: 0 0 0 0;\n",
              "      width: 32px;\n",
              "    }\n",
              "\n",
              "    .colab-df-convert:hover {\n",
              "      background-color: #E2EBFA;\n",
              "      box-shadow: 0px 1px 2px rgba(60, 64, 67, 0.3), 0px 1px 3px 1px rgba(60, 64, 67, 0.15);\n",
              "      fill: #174EA6;\n",
              "    }\n",
              "\n",
              "    [theme=dark] .colab-df-convert {\n",
              "      background-color: #3B4455;\n",
              "      fill: #D2E3FC;\n",
              "    }\n",
              "\n",
              "    [theme=dark] .colab-df-convert:hover {\n",
              "      background-color: #434B5C;\n",
              "      box-shadow: 0px 1px 3px 1px rgba(0, 0, 0, 0.15);\n",
              "      filter: drop-shadow(0px 1px 2px rgba(0, 0, 0, 0.3));\n",
              "      fill: #FFFFFF;\n",
              "    }\n",
              "  </style>\n",
              "\n",
              "      <script>\n",
              "        const buttonEl =\n",
              "          document.querySelector('#df-c7e8aaa4-78df-420c-942c-5b37ec5d3b4d button.colab-df-convert');\n",
              "        buttonEl.style.display =\n",
              "          google.colab.kernel.accessAllowed ? 'block' : 'none';\n",
              "\n",
              "        async function convertToInteractive(key) {\n",
              "          const element = document.querySelector('#df-c7e8aaa4-78df-420c-942c-5b37ec5d3b4d');\n",
              "          const dataTable =\n",
              "            await google.colab.kernel.invokeFunction('convertToInteractive',\n",
              "                                                     [key], {});\n",
              "          if (!dataTable) return;\n",
              "\n",
              "          const docLinkHtml = 'Like what you see? Visit the ' +\n",
              "            '<a target=\"_blank\" href=https://colab.research.google.com/notebooks/data_table.ipynb>data table notebook</a>'\n",
              "            + ' to learn more about interactive tables.';\n",
              "          element.innerHTML = '';\n",
              "          dataTable['output_type'] = 'display_data';\n",
              "          await google.colab.output.renderOutput(dataTable, element);\n",
              "          const docLink = document.createElement('div');\n",
              "          docLink.innerHTML = docLinkHtml;\n",
              "          element.appendChild(docLink);\n",
              "        }\n",
              "      </script>\n",
              "    </div>\n",
              "  </div>\n",
              "  "
            ]
          },
          "metadata": {},
          "execution_count": 28
        }
      ]
    },
    {
      "cell_type": "markdown",
      "source": [
        "## Splitting data into Train and Test Dataset"
      ],
      "metadata": {
        "id": "3sL4sohcgxmR"
      }
    },
    {
      "cell_type": "code",
      "source": [
        "X = df.drop('BookingsCheckedIn', axis=1)\n",
        "y = df['BookingsCheckedIn']\n",
        "print(X.shape)\n",
        "X_train, X_test, y_train, y_test = train_test_split(X, y, test_size=0.2, random_state=42)"
      ],
      "metadata": {
        "id": "rEbvHGJdfQxg",
        "colab": {
          "base_uri": "https://localhost:8080/"
        },
        "outputId": "6675de76-bd75-4188-811c-5fc5bf83a60e"
      },
      "execution_count": 29,
      "outputs": [
        {
          "output_type": "stream",
          "name": "stdout",
          "text": [
            "(83580, 26)\n"
          ]
        }
      ]
    },
    {
      "cell_type": "code",
      "source": [
        "X_train.shape"
      ],
      "metadata": {
        "colab": {
          "base_uri": "https://localhost:8080/"
        },
        "id": "_Q0kLdhlhG-N",
        "outputId": "8c1f7b2c-3f31-48ae-8e1f-974b1c14b7eb"
      },
      "execution_count": 30,
      "outputs": [
        {
          "output_type": "execute_result",
          "data": {
            "text/plain": [
              "(66864, 26)"
            ]
          },
          "metadata": {},
          "execution_count": 30
        }
      ]
    },
    {
      "cell_type": "code",
      "source": [
        "y_train.shape"
      ],
      "metadata": {
        "colab": {
          "base_uri": "https://localhost:8080/"
        },
        "id": "fKHseuWpsbGY",
        "outputId": "f65d5a8f-3411-4b6a-870b-64e0132f843e"
      },
      "execution_count": 31,
      "outputs": [
        {
          "output_type": "execute_result",
          "data": {
            "text/plain": [
              "(66864,)"
            ]
          },
          "metadata": {},
          "execution_count": 31
        }
      ]
    },
    {
      "cell_type": "code",
      "source": [
        "X_test.shape"
      ],
      "metadata": {
        "colab": {
          "base_uri": "https://localhost:8080/"
        },
        "id": "OaWw_QLdse24",
        "outputId": "16df61c9-3342-48aa-8302-4959040f9508"
      },
      "execution_count": 32,
      "outputs": [
        {
          "output_type": "execute_result",
          "data": {
            "text/plain": [
              "(16716, 26)"
            ]
          },
          "metadata": {},
          "execution_count": 32
        }
      ]
    },
    {
      "cell_type": "code",
      "source": [
        "df.shape"
      ],
      "metadata": {
        "colab": {
          "base_uri": "https://localhost:8080/"
        },
        "id": "oQ9sBEXBsh_4",
        "outputId": "feef63c7-3a3a-40a4-b477-8d9dd682b2f6"
      },
      "execution_count": 33,
      "outputs": [
        {
          "output_type": "execute_result",
          "data": {
            "text/plain": [
              "(83580, 27)"
            ]
          },
          "metadata": {},
          "execution_count": 33
        }
      ]
    },
    {
      "cell_type": "code",
      "source": [
        "X.info()"
      ],
      "metadata": {
        "colab": {
          "base_uri": "https://localhost:8080/"
        },
        "id": "OghchjPJ2InL",
        "outputId": "f496ae94-8e27-44dc-aa6d-9583763299f1"
      },
      "execution_count": 34,
      "outputs": [
        {
          "output_type": "stream",
          "name": "stdout",
          "text": [
            "<class 'pandas.core.frame.DataFrame'>\n",
            "Int64Index: 83580 entries, 0 to 999\n",
            "Data columns (total 26 columns):\n",
            " #   Column                Non-Null Count  Dtype  \n",
            "---  ------                --------------  -----  \n",
            " 0   Age                   83580 non-null  float64\n",
            " 1   DaysSinceCreation     83580 non-null  float64\n",
            " 2   AverageLeadTime       83580 non-null  float64\n",
            " 3   LodgingRevenue        83580 non-null  float64\n",
            " 4   OtherRevenue          83580 non-null  float64\n",
            " 5   BookingsCanceled      83580 non-null  int64  \n",
            " 6   BookingsNoShowed      83580 non-null  int64  \n",
            " 7   PersonsNights         83580 non-null  int64  \n",
            " 8   RoomNights            83580 non-null  int64  \n",
            " 9   DaysSinceLastStay     83580 non-null  float64\n",
            " 10  DaysSinceFirstStay    83580 non-null  float64\n",
            " 11  DistributionChannel   83580 non-null  int64  \n",
            " 12  MarketSegment         83580 non-null  int64  \n",
            " 13  SRHighFloor           83580 non-null  int64  \n",
            " 14  SRLowFloor            83580 non-null  int64  \n",
            " 15  SRAccessibleRoom      83580 non-null  int64  \n",
            " 16  SRMediumFloor         83580 non-null  int64  \n",
            " 17  SRBathtub             83580 non-null  int64  \n",
            " 18  SRShower              83580 non-null  int64  \n",
            " 19  SRCrib                83580 non-null  int64  \n",
            " 20  SRKingSizeBed         83580 non-null  int64  \n",
            " 21  SRTwinBed             83580 non-null  int64  \n",
            " 22  SRNearElevator        83580 non-null  int64  \n",
            " 23  SRAwayFromElevator    83580 non-null  int64  \n",
            " 24  SRNoAlcoholInMiniBar  83580 non-null  int64  \n",
            " 25  SRQuietRoom           83580 non-null  int64  \n",
            "dtypes: float64(7), int64(19)\n",
            "memory usage: 19.2 MB\n"
          ]
        }
      ]
    },
    {
      "cell_type": "markdown",
      "source": [
        "## Creating the MultiNomialNB\n"
      ],
      "metadata": {
        "id": "JHP_deRShhnl"
      }
    },
    {
      "cell_type": "code",
      "source": [
        "from sklearn.naive_bayes import MultinomialNB\n",
        "\n",
        "model = MultinomialNB()\n",
        "model.fit(X_train,y_train)\n",
        "model.score(X_test,y_test)"
      ],
      "metadata": {
        "colab": {
          "base_uri": "https://localhost:8080/"
        },
        "id": "jLTwj5J_hKmY",
        "outputId": "b0894855-5b13-48ab-8947-9a10cae44e9b"
      },
      "execution_count": 35,
      "outputs": [
        {
          "output_type": "execute_result",
          "data": {
            "text/plain": [
              "1.0"
            ]
          },
          "metadata": {},
          "execution_count": 35
        }
      ]
    },
    {
      "cell_type": "code",
      "source": [
        "yp = model.predict(X_test)\n",
        "yp[:5]"
      ],
      "metadata": {
        "colab": {
          "base_uri": "https://localhost:8080/"
        },
        "id": "zIVEeY9Visc4",
        "outputId": "ab05cb70-cb9b-412a-b3bc-f4b226f93161"
      },
      "execution_count": 36,
      "outputs": [
        {
          "output_type": "execute_result",
          "data": {
            "text/plain": [
              "array([1, 1, 1, 0, 1])"
            ]
          },
          "metadata": {},
          "execution_count": 36
        }
      ]
    },
    {
      "cell_type": "code",
      "source": [
        "y_pred = []\n",
        "for element in yp:\n",
        "    if element > 0.5:\n",
        "        y_pred.append(1)\n",
        "    else:\n",
        "        y_pred.append(0)"
      ],
      "metadata": {
        "id": "CSN3meJbkZri"
      },
      "execution_count": 37,
      "outputs": []
    },
    {
      "cell_type": "code",
      "source": [
        "print(classification_report(y_test,y_pred))"
      ],
      "metadata": {
        "colab": {
          "base_uri": "https://localhost:8080/"
        },
        "id": "c-zJlZl4kbA6",
        "outputId": "74767efb-c1e8-4c17-9993-61e2b37709e2"
      },
      "execution_count": 38,
      "outputs": [
        {
          "output_type": "stream",
          "name": "stdout",
          "text": [
            "              precision    recall  f1-score   support\n",
            "\n",
            "           0       1.00      1.00      1.00      3955\n",
            "           1       1.00      1.00      1.00     12761\n",
            "\n",
            "    accuracy                           1.00     16716\n",
            "   macro avg       1.00      1.00      1.00     16716\n",
            "weighted avg       1.00      1.00      1.00     16716\n",
            "\n"
          ]
        }
      ]
    },
    {
      "cell_type": "code",
      "source": [
        "cm = tf.math.confusion_matrix(labels=y_test,predictions=y_pred)\n",
        "\n",
        "plt.figure(figsize = (10,7))\n",
        "sns.heatmap(cm, annot=True, fmt='d')\n",
        "plt.xlabel('Predicted')\n",
        "plt.ylabel('Truth')"
      ],
      "metadata": {
        "colab": {
          "base_uri": "https://localhost:8080/",
          "height": 465
        },
        "id": "_KbjH2yGkgha",
        "outputId": "de24cc13-9bbf-497d-c9ae-e7c395fe799c"
      },
      "execution_count": 39,
      "outputs": [
        {
          "output_type": "execute_result",
          "data": {
            "text/plain": [
              "Text(66.5, 0.5, 'Truth')"
            ]
          },
          "metadata": {},
          "execution_count": 39
        },
        {
          "output_type": "display_data",
          "data": {
            "text/plain": [
              "<Figure size 720x504 with 2 Axes>"
            ],
            "image/png": "[encoded data removed]"
          },
          "metadata": {}
        }
      ]
    },
    {
      "cell_type": "markdown",
      "source": [
        "## Accuracy"
      ],
      "metadata": {
        "id": "KewWlU_7n_AL"
      }
    },
    {
      "cell_type": "code",
      "source": [
        "round((3955+12761)/(3955+12761),2)"
      ],
      "metadata": {
        "colab": {
          "base_uri": "https://localhost:8080/"
        },
        "id": "O_qVP-E1kmKr",
        "outputId": "7aaac2c5-7795-46ba-a595-dd5ddcce4dc3"
      },
      "execution_count": 42,
      "outputs": [
        {
          "output_type": "execute_result",
          "data": {
            "text/plain": [
              "1.0"
            ]
          },
          "metadata": {},
          "execution_count": 42
        }
      ]
    },
    {
      "cell_type": "markdown",
      "source": [
        "Our model has an accuracy of 1.0 or 100%. This would have been a problem if it was only in training, But our model was able to get 100% even in the test. What we can infer from this? I think our model is great but when introduced some discrpent data the accuracy may go down a bit. But for the time period our model is doing fine! "
      ],
      "metadata": {
        "id": "-tn9NYHTuz52"
      }
    },
    {
      "cell_type": "markdown",
      "source": [
        "## Precision"
      ],
      "metadata": {
        "id": "IJlobWUYNFKl"
      }
    },
    {
      "cell_type": "code",
      "source": [
        "round((3955)/(3955),2)"
      ],
      "metadata": {
        "colab": {
          "base_uri": "https://localhost:8080/"
        },
        "id": "0SJRUPh8NENQ",
        "outputId": "c3895f01-811c-415e-a872-7fed60a24d0c"
      },
      "execution_count": 43,
      "outputs": [
        {
          "output_type": "execute_result",
          "data": {
            "text/plain": [
              "1.0"
            ]
          },
          "metadata": {},
          "execution_count": 43
        }
      ]
    },
    {
      "cell_type": "markdown",
      "source": [
        "The model has a precision of 1.0 or 100%"
      ],
      "metadata": {
        "id": "GdCtHfFWNbMX"
      }
    },
    {
      "cell_type": "code",
      "source": [],
      "metadata": {
        "id": "9kzMZ-JSNaGR"
      },
      "execution_count": 41,
      "outputs": []
    },
    {
      "cell_type": "code",
      "source": [],
      "metadata": {
        "id": "vTjvmALIxrOM"
      },
      "execution_count": 41,
      "outputs": []
    }
  ]
}